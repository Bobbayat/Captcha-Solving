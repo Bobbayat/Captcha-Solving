{
 "cells": [
  {
   "cell_type": "code",
   "execution_count": 1,
   "id": "cfe4b9bb",
   "metadata": {},
   "outputs": [],
   "source": [
    "import os\n",
    "import numpy as np\n",
    "from PIL import Image\n",
    "import tensorflow as tf\n",
    "import cv2\n",
    "from tqdm.notebook import tqdm\n",
    "import matplotlib.pyplot as plt\n"
   ]
  },
  {
   "cell_type": "code",
   "execution_count": 2,
   "id": "9df54e08",
   "metadata": {},
   "outputs": [],
   "source": [
    "# Define the classes based on unique alphanumeric characters present in your file names\n",
    "image_size = (170, 64)\n",
    "img_folder = \"...........................\""
   ]
  },
  {
   "cell_type": "code",
   "execution_count": 3,
   "id": "ed9ad5a2",
   "metadata": {},
   "outputs": [],
   "source": [
    "# Create an empty array to hold the images\n",
    "num_images = len(os.listdir(img_folder))\n",
    "images = np.zeros((num_images, image_size[1], image_size[0], 3), dtype=np.uint8)\n",
    "\n",
    "# Create an empty array to hold the labels\n",
    "labels = []"
   ]
  },
  {
   "cell_type": "code",
   "execution_count": 6,
   "id": "c01173c6",
   "metadata": {},
   "outputs": [
    {
     "data": {
      "application/vnd.jupyter.widget-view+json": {
       "model_id": "287afbaf558645c48ba38c8bc5e06ed4",
       "version_major": 2,
       "version_minor": 0
      },
      "text/plain": [
       "0it [00:00, ?it/s]"
      ]
     },
     "metadata": {},
     "output_type": "display_data"
    }
   ],
   "source": [
    "# Loop over the images and load them\n",
    "for i, image_file in tqdm(enumerate(os.listdir(img_folder))):\n",
    "    image_path = os.path.join(img_folder, image_file)\n",
    "    image = Image.open(image_path)\n",
    "    image = image.resize(image_size)\n",
    "    images[i] = np.array(image)\n",
    "    label = image_file.split(\".\")[0]\n",
    "    labels.append(label)\n",
    "    \n",
    "\n",
    "\n",
    "# Split the dataset into training, validation, and test sets\n",
    "train_images, train_labels = images[:int(num_images*0.8)], labels[:int(num_images*0.8)]\n",
    "test_images, test_labels = images[int(num_images*0.8):], labels[int(num_images*0.8):]"
   ]
  },
  {
   "cell_type": "code",
   "execution_count": 7,
   "id": "d2ef5bf5",
   "metadata": {},
   "outputs": [],
   "source": [
    "# Save the dataset\n",
    "np.savez_compressed(\"captcha_dataset.npz\")"
   ]
  },
  {
   "cell_type": "code",
   "execution_count": 10,
   "id": "577ff686",
   "metadata": {},
   "outputs": [],
   "source": [
    "# Load the dataset using TensorFlow\n",
    "dataset = np.load(\"captcha_dataset.npz\")\n",
    "\n",
    "train_dataset = tf.data.Dataset.from_tensor_slices((train_images, train_labels))\n",
    "# test_dataset = tf.data.Dataset.from_tensor_slices((test_images, test_labels))\n"
   ]
  },
  {
   "cell_type": "code",
   "execution_count": null,
   "id": "6455666f",
   "metadata": {},
   "outputs": [],
   "source": [
    "train_iterator = train_dataset.__iter__()\n",
    "\n",
    "for i in range(7):\n",
    "    image, label = train_iterator.get_next()\n",
    "    print(\"Image shape:\", image.shape)\n",
    "    print(\"Label:\", label)"
   ]
  },
  {
   "cell_type": "code",
   "execution_count": null,
   "id": "21dc3979",
   "metadata": {},
   "outputs": [],
   "source": [
    "for i in range(7):\n",
    "    image, label = test_iterator.get_next()\n",
    "    plt.figure()\n",
    "    plt.imshow(image.numpy())\n",
    "    plt.title(f\"Label: {label.numpy().decode()}\")\n",
    "    plt.show()"
   ]
  },
  {
   "cell_type": "code",
   "execution_count": null,
   "id": "537a1b9d",
   "metadata": {},
   "outputs": [],
   "source": []
  }
 ],
 "metadata": {
  "kernelspec": {
   "display_name": "Python 3 (ipykernel)",
   "language": "python",
   "name": "python3"
  },
  "language_info": {
   "codemirror_mode": {
    "name": "ipython",
    "version": 3
   },
   "file_extension": ".py",
   "mimetype": "text/x-python",
   "name": "python",
   "nbconvert_exporter": "python",
   "pygments_lexer": "ipython3",
   "version": "3.10.9"
  }
 },
 "nbformat": 4,
 "nbformat_minor": 5
}
