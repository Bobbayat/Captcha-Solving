{
 "cells": [
  {
   "cell_type": "markdown",
   "id": "e66b9987",
   "metadata": {},
   "source": [
    "### Create Captcha"
   ]
  },
  {
   "cell_type": "code",
   "execution_count": null,
   "id": "8a0a29b3",
   "metadata": {},
   "outputs": [],
   "source": [
    "from captcha.image import ImageCaptcha\n",
    "import matplotlib . pyplot as plt\n",
    "import random\n",
    "import string\n",
    "\n",
    "characters = string.digits + string.ascii_uppercase\n",
    "generator = ImageCaptcha()\n",
    "\n",
    "for _ in range(500000):\n",
    "    # Generate a random 5 character string\n",
    "    random_str = ''.join([random.choice(characters) for j in range(5)])\n",
    "\n",
    "    # Generate verification code\n",
    "    img = generator.generate_image(random_str)\n",
    "\n",
    "    # Save verification code\n",
    "    file_name = '/content/drive/MyDrive/Captcha_Solving/Data/'+random_str+'.jpg'\n",
    "    img.save(file_name)\n",
    "print('finish')"
   ]
  },
  {
   "cell_type": "markdown",
   "id": "2d276605",
   "metadata": {},
   "source": [
    "### Preprocessing"
   ]
  },
  {
   "cell_type": "code",
   "execution_count": 1,
   "id": "b4f8824d",
   "metadata": {},
   "outputs": [],
   "source": [
    "import os\n",
    "import cv2\n",
    "from tqdm import tqdm\n",
    "import numpy as np\n"
   ]
  },
  {
   "cell_type": "code",
   "execution_count": null,
   "id": "0a9e4aa7",
   "metadata": {},
   "outputs": [],
   "source": [
    "counter = 0\n",
    "\n",
    "directory_path = 'C:\\\\Users\\\\lenovo\\\\Desktop\\\\project\\\\8508\\\\project\\\\data\\\\'\n",
    "\n",
    "for file_name in tqdm(os.listdir(directory_path)):\n",
    "    if file_name.endswith('.jpg'):\n",
    "        image = cv2.imread(os.path.join(directory_path, file_name), 0)\n",
    "        for i in range(5):\n",
    "            counter += 1\n",
    "            sub_image = image[:, i * 28:i * 28 + 35]\n",
    "            output_directory = 'C:\\\\Users\\\\lenovo\\\\Desktop\\\\project\\\\8508\\\\project\\\\sub_image\\\\'\n",
    "            cv2.imwrite(os.path.join(output_directory, f'{file_name[i]}_{counter}.jpg'), sub_image)\n"
   ]
  },
  {
   "cell_type": "code",
   "execution_count": 3,
   "id": "796be46d",
   "metadata": {},
   "outputs": [
    {
     "name": "stderr",
     "output_type": "stream",
     "text": [
      "100%|████████████████████████████████████████████████████████████████████████████| 50000/50000 [39:10<00:00, 21.27it/s]\n"
     ]
    }
   ],
   "source": [
    "directory_path = 'C:\\\\Users\\\\lenovo\\\\Desktop\\\\project\\\\8508\\\\project\\\\sub_image\\\\'\n",
    "\n",
    "for file_name in tqdm(os.listdir(directory_path)):\n",
    "    if file_name.endswith('.jpg'):\n",
    "        sub_image = cv2.imread(os.path.join(directory_path, file_name), 0)\n",
    "        filtered = cv2.fastNlMeansDenoising(sub_image, None, 31, 7, 21)\n",
    "        filtered = cv2.medianBlur(filtered, 1)\n",
    "        output_directory = 'C:\\\\Users\\\\lenovo\\\\Desktop\\\\project\\\\8508\\\\project\\\\sub_filtered\\\\'\n",
    "        cv2.imwrite(os.path.join(output_directory, file_name), filtered)\n"
   ]
  },
  {
   "cell_type": "code",
   "execution_count": 5,
   "id": "0925ebe0",
   "metadata": {},
   "outputs": [
    {
     "name": "stderr",
     "output_type": "stream",
     "text": [
      "37it [01:26,  2.35s/it]\n"
     ]
    }
   ],
   "source": [
    "import os\n",
    "import cv2\n",
    "from tqdm import tqdm\n",
    "\n",
    "directory_path = 'C:\\\\Users\\\\lenovo\\\\Desktop\\\\project\\\\8508\\\\project\\\\sub_category\\\\'\n",
    "\n",
    "all_images = []\n",
    "all_labels = []\n",
    "\n",
    "for root, dirs, files in tqdm(os.walk(directory_path)):\n",
    "    for file_name in files:\n",
    "        if file_name.endswith('.jpg'):\n",
    "            file_path = os.path.join(root, file_name)\n",
    "            image = cv2.imread(file_path)\n",
    "            image = cv2.resize(image, (32, 32))\n",
    "            image = image.astype(np.float32) / 255.0\n",
    "\n",
    "            all_images.append(image)\n",
    "            label = os.path.basename(root)\n",
    "\n",
    "            all_labels.append(label)\n"
   ]
  },
  {
   "cell_type": "code",
   "execution_count": 6,
   "id": "1d463491",
   "metadata": {},
   "outputs": [],
   "source": [
    "import numpy as np\n",
    "import pickle\n",
    "\n",
    "with open('all_labels.pickle', 'wb') as f:\n",
    "    pickle.dump(all_labels, f)"
   ]
  },
  {
   "cell_type": "code",
   "execution_count": 28,
   "id": "3c36c528",
   "metadata": {},
   "outputs": [],
   "source": [
    "import numpy as np\n",
    "import pickle\n",
    "\n",
    "all_images = np.array(all_images)\n",
    "\n",
    "with open('all_images.pickle', 'wb') as f:\n",
    "    pickle.dump(all_images, f)"
   ]
  },
  {
   "cell_type": "code",
   "execution_count": 19,
   "id": "94fa8c74",
   "metadata": {},
   "outputs": [],
   "source": [
    "import pickle\n",
    "\n",
    "with open('all_images.pickle', 'rb') as f:\n",
    "    all_images = pickle.load(f)\n",
    "with open('all_labels.pickle', 'rb') as f:\n",
    "    all_labels = pickle.load(f)"
   ]
  },
  {
   "cell_type": "code",
   "execution_count": 20,
   "id": "d78380d6",
   "metadata": {},
   "outputs": [],
   "source": [
    "from sklearn.model_selection import train_test_split\n",
    "from sklearn.preprocessing import LabelBinarizer\n",
    "\n",
    "lb = LabelBinarizer()\n",
    "all_labels = lb.fit_transform(all_labels)\n",
    "\n",
    "trainX , testX , trainy , testy = train_test_split(all_images , all_labels,test_size = 0.2)"
   ]
  },
  {
   "cell_type": "markdown",
   "id": "558784db",
   "metadata": {},
   "source": [
    "# CNN Model"
   ]
  },
  {
   "cell_type": "code",
   "execution_count": 31,
   "id": "5a3de86c",
   "metadata": {},
   "outputs": [
    {
     "name": "stdout",
     "output_type": "stream",
     "text": [
      "Model: \"sequential_4\"\n",
      "_________________________________________________________________\n",
      " Layer (type)                Output Shape              Param #   \n",
      "=================================================================\n",
      " conv2d_8 (Conv2D)           (None, 32, 32, 64)        1792      \n",
      "                                                                 \n",
      " max_pooling2d_8 (MaxPooling  (None, 16, 16, 64)       0         \n",
      " 2D)                                                             \n",
      "                                                                 \n",
      " dropout_4 (Dropout)         (None, 16, 16, 64)        0         \n",
      "                                                                 \n",
      " conv2d_9 (Conv2D)           (None, 16, 16, 128)       73856     \n",
      "                                                                 \n",
      " max_pooling2d_9 (MaxPooling  (None, 8, 8, 128)        0         \n",
      " 2D)                                                             \n",
      "                                                                 \n",
      " flatten_4 (Flatten)         (None, 8192)              0         \n",
      "                                                                 \n",
      " dense_8 (Dense)             (None, 64)                524352    \n",
      "                                                                 \n",
      " dense_9 (Dense)             (None, 36)                2340      \n",
      "                                                                 \n",
      "=================================================================\n",
      "Total params: 602,340\n",
      "Trainable params: 602,340\n",
      "Non-trainable params: 0\n",
      "_________________________________________________________________\n"
     ]
    }
   ],
   "source": [
    "from tensorflow.keras import layers ,models \n",
    "from keras.layers import Dense, Dropout, Flatten, Conv2D, MaxPool2D ,GlobalAveragePooling2D \n",
    "\n",
    "net = models.Sequential([layers.Conv2D(64 , (3,3) , activation = 'relu',padding = 'same' , input_shape = (32,32,3)),\n",
    "                       layers.MaxPooling2D((2,2)),\n",
    "                         \n",
    "                       layers.Dropout(0.25),\n",
    "                        \n",
    "                       layers.Conv2D(128 , (3,3) , activation = 'relu', padding = 'same' ),\n",
    "                       layers.MaxPooling2D((2,2)),\n",
    "                         \n",
    "                        \n",
    "                       layers.Flatten(),\n",
    "                        \n",
    "                       layers.Dense(64, activation = 'relu'),\n",
    "                       layers.Dense(36 , activation = 'softmax')\n",
    "                       ])\n",
    "net.summary()"
   ]
  },
  {
   "cell_type": "code",
   "execution_count": 32,
   "id": "18a7f6bf",
   "metadata": {},
   "outputs": [],
   "source": [
    "net.compile(loss = 'categorical_crossentropy' , optimizer = 'adam' , metrics = ['accuracy'])"
   ]
  },
  {
   "cell_type": "code",
   "execution_count": 33,
   "id": "ae691947",
   "metadata": {},
   "outputs": [
    {
     "name": "stdout",
     "output_type": "stream",
     "text": [
      "Epoch 1/200\n",
      "1625/1625 [==============================] - 154s 94ms/step - loss: 3.0701 - accuracy: 0.1881 - val_loss: 2.5857 - val_accuracy: 0.2946\n",
      "Epoch 2/200\n",
      "1625/1625 [==============================] - 151s 93ms/step - loss: 2.2639 - accuracy: 0.3836 - val_loss: 1.9247 - val_accuracy: 0.4877\n",
      "Epoch 3/200\n",
      "1625/1625 [==============================] - 164s 101ms/step - loss: 1.8148 - accuracy: 0.5167 - val_loss: 1.6632 - val_accuracy: 0.5748\n",
      "Epoch 4/200\n",
      "1625/1625 [==============================] - 152s 93ms/step - loss: 1.6140 - accuracy: 0.5760 - val_loss: 1.5905 - val_accuracy: 0.5880\n",
      "Epoch 5/200\n",
      "1625/1625 [==============================] - 149s 92ms/step - loss: 1.4988 - accuracy: 0.6077 - val_loss: 1.4696 - val_accuracy: 0.6270\n",
      "Epoch 6/200\n",
      "1625/1625 [==============================] - 145s 89ms/step - loss: 1.4166 - accuracy: 0.6313 - val_loss: 1.4779 - val_accuracy: 0.6324\n",
      "Epoch 7/200\n",
      "1625/1625 [==============================] - 145s 89ms/step - loss: 1.3528 - accuracy: 0.6496 - val_loss: 1.3589 - val_accuracy: 0.6589\n",
      "Epoch 8/200\n",
      "1625/1625 [==============================] - 147s 90ms/step - loss: 1.3021 - accuracy: 0.6615 - val_loss: 1.3376 - val_accuracy: 0.6647\n",
      "Epoch 9/200\n",
      "1625/1625 [==============================] - 146s 90ms/step - loss: 1.2483 - accuracy: 0.6745 - val_loss: 1.3022 - val_accuracy: 0.6737\n",
      "Epoch 10/200\n",
      "1625/1625 [==============================] - 142s 87ms/step - loss: 1.2094 - accuracy: 0.6864 - val_loss: 1.2765 - val_accuracy: 0.6827\n",
      "Epoch 11/200\n",
      "1625/1625 [==============================] - 146s 90ms/step - loss: 1.1721 - accuracy: 0.6943 - val_loss: 1.2827 - val_accuracy: 0.6878\n",
      "Epoch 12/200\n",
      "1625/1625 [==============================] - 146s 90ms/step - loss: 1.1269 - accuracy: 0.7054 - val_loss: 1.2824 - val_accuracy: 0.6875\n",
      "Epoch 13/200\n",
      "1625/1625 [==============================] - 150s 92ms/step - loss: 1.1012 - accuracy: 0.7139 - val_loss: 1.2631 - val_accuracy: 0.6924\n",
      "Epoch 14/200\n",
      "1625/1625 [==============================] - 145s 89ms/step - loss: 1.0688 - accuracy: 0.7206 - val_loss: 1.2764 - val_accuracy: 0.6946\n",
      "Epoch 15/200\n",
      "1625/1625 [==============================] - 152s 94ms/step - loss: 1.0357 - accuracy: 0.7287 - val_loss: 1.2394 - val_accuracy: 0.7011\n",
      "Epoch 16/200\n",
      "1625/1625 [==============================] - 151s 93ms/step - loss: 1.0076 - accuracy: 0.7360 - val_loss: 1.2180 - val_accuracy: 0.7089\n",
      "Epoch 17/200\n",
      "1625/1625 [==============================] - 148s 91ms/step - loss: 0.9853 - accuracy: 0.7418 - val_loss: 1.2777 - val_accuracy: 0.6974\n",
      "Epoch 18/200\n",
      "1625/1625 [==============================] - 144s 88ms/step - loss: 0.9614 - accuracy: 0.7470 - val_loss: 1.2479 - val_accuracy: 0.7045\n",
      "Epoch 19/200\n",
      "1625/1625 [==============================] - 143s 88ms/step - loss: 0.9309 - accuracy: 0.7548 - val_loss: 1.2095 - val_accuracy: 0.7146\n",
      "Epoch 20/200\n",
      "1625/1625 [==============================] - 150s 92ms/step - loss: 0.9116 - accuracy: 0.7589 - val_loss: 1.2348 - val_accuracy: 0.7178\n",
      "Epoch 21/200\n",
      "1625/1625 [==============================] - 148s 91ms/step - loss: 0.8847 - accuracy: 0.7638 - val_loss: 1.2736 - val_accuracy: 0.7041\n",
      "Epoch 22/200\n",
      "1625/1625 [==============================] - 146s 90ms/step - loss: 0.8629 - accuracy: 0.7678 - val_loss: 1.2333 - val_accuracy: 0.7185\n",
      "Epoch 23/200\n",
      "1625/1625 [==============================] - 139s 86ms/step - loss: 0.8464 - accuracy: 0.7727 - val_loss: 1.2635 - val_accuracy: 0.7118\n",
      "Epoch 24/200\n",
      "1625/1625 [==============================] - 147s 90ms/step - loss: 0.8287 - accuracy: 0.7760 - val_loss: 1.2742 - val_accuracy: 0.7088\n",
      "Epoch 25/200\n",
      "1625/1625 [==============================] - 146s 90ms/step - loss: 0.8116 - accuracy: 0.7829 - val_loss: 1.2973 - val_accuracy: 0.7105\n",
      "Epoch 26/200\n",
      "1625/1625 [==============================] - 149s 92ms/step - loss: 0.7854 - accuracy: 0.7886 - val_loss: 1.2803 - val_accuracy: 0.7138\n",
      "Epoch 27/200\n",
      "1625/1625 [==============================] - 149s 92ms/step - loss: 0.7726 - accuracy: 0.7906 - val_loss: 1.2817 - val_accuracy: 0.7137\n"
     ]
    }
   ],
   "source": [
    "from tensorflow.keras.callbacks import EarlyStopping\n",
    "\n",
    "es = EarlyStopping(monitor='val_accuracy', mode='max', patience=5,  restore_best_weights=True)\n",
    "\n",
    "H = net.fit(x = trainX , y = trainy , epochs = 200  , batch_size = 32 , validation_data = (testX , testy),callbacks=[es])"
   ]
  },
  {
   "cell_type": "code",
   "execution_count": 34,
   "id": "102eeceb",
   "metadata": {},
   "outputs": [
    {
     "name": "stderr",
     "output_type": "stream",
     "text": [
      "WARNING:absl:Found untraced functions such as _jit_compiled_convolution_op, _jit_compiled_convolution_op, _update_step_xla while saving (showing 3 of 3). These functions will not be directly callable after loading.\n"
     ]
    },
    {
     "name": "stdout",
     "output_type": "stream",
     "text": [
      "INFO:tensorflow:Assets written to: model_2023_04_09\\assets\n"
     ]
    },
    {
     "name": "stderr",
     "output_type": "stream",
     "text": [
      "INFO:tensorflow:Assets written to: model_2023_04_09\\assets\n"
     ]
    }
   ],
   "source": [
    "net.save('model_2023_04_09')"
   ]
  },
  {
   "cell_type": "code",
   "execution_count": 36,
   "id": "39f8e9c8",
   "metadata": {},
   "outputs": [
    {
     "data": {
      "image/png": "[encoded data removed]",
      "text/plain": [
       "<Figure size 640x480 with 1 Axes>"
      ]
     },
     "metadata": {},
     "output_type": "display_data"
    }
   ],
   "source": [
    "import matplotlib.pyplot as plt\n",
    "\n",
    "plt.plot(H.history['loss'], label = 'train loss')\n",
    "plt.plot(H.history['val_loss'], label = 'test loss')\n",
    "\n",
    "plt.legend()\n",
    "plt.xlabel('epochs')\n",
    "plt.ylabel('loss')\n",
    "plt.title('solving captcha')\n",
    "plt.show()"
   ]
  },
  {
   "cell_type": "code",
   "execution_count": 37,
   "id": "a14b71ad",
   "metadata": {},
   "outputs": [
    {
     "data": {
      "image/png": "[encoded data removed]",
      "text/plain": [
       "<Figure size 640x480 with 1 Axes>"
      ]
     },
     "metadata": {},
     "output_type": "display_data"
    }
   ],
   "source": [
    "plt.plot(H.history['accuracy'] , label = 'train accuracy')\n",
    "plt.plot(H.history['val_accuracy'] , label = 'test accuracy')\n",
    "\n",
    "plt.legend()\n",
    "plt.xlabel('epochs')\n",
    "plt.ylabel('accuracy')\n",
    "plt.title('solving captcha')\n",
    "plt.show()"
   ]
  },
  {
   "cell_type": "markdown",
   "id": "c6d83f36",
   "metadata": {},
   "source": [
    "# VGG16"
   ]
  },
  {
   "cell_type": "code",
   "execution_count": 2,
   "id": "6656bc31",
   "metadata": {},
   "outputs": [],
   "source": [
    "from tensorflow.keras.applications.vgg16 import VGG16\n",
    "from tensorflow.keras.applications.vgg16 import preprocess_input"
   ]
  },
  {
   "cell_type": "code",
   "execution_count": 8,
   "id": "a2fc3ff9",
   "metadata": {},
   "outputs": [],
   "source": [
    "## Loading VGG16 model\n",
    "base_model = VGG16(weights=\"imagenet\", include_top=False, input_shape=trainX[0].shape)\n",
    "base_model.trainable = False ## Not trainable weights"
   ]
  },
  {
   "cell_type": "code",
   "execution_count": 9,
   "id": "f9a41d71",
   "metadata": {},
   "outputs": [
    {
     "name": "stdout",
     "output_type": "stream",
     "text": [
      "Model: \"vgg16\"\n",
      "_________________________________________________________________\n",
      " Layer (type)                Output Shape              Param #   \n",
      "=================================================================\n",
      " input_1 (InputLayer)        [(None, 32, 32, 3)]       0         \n",
      "                                                                 \n",
      " block1_conv1 (Conv2D)       (None, 32, 32, 64)        1792      \n",
      "                                                                 \n",
      " block1_conv2 (Conv2D)       (None, 32, 32, 64)        36928     \n",
      "                                                                 \n",
      " block1_pool (MaxPooling2D)  (None, 16, 16, 64)        0         \n",
      "                                                                 \n",
      " block2_conv1 (Conv2D)       (None, 16, 16, 128)       73856     \n",
      "                                                                 \n",
      " block2_conv2 (Conv2D)       (None, 16, 16, 128)       147584    \n",
      "                                                                 \n",
      " block2_pool (MaxPooling2D)  (None, 8, 8, 128)         0         \n",
      "                                                                 \n",
      " block3_conv1 (Conv2D)       (None, 8, 8, 256)         295168    \n",
      "                                                                 \n",
      " block3_conv2 (Conv2D)       (None, 8, 8, 256)         590080    \n",
      "                                                                 \n",
      " block3_conv3 (Conv2D)       (None, 8, 8, 256)         590080    \n",
      "                                                                 \n",
      " block3_pool (MaxPooling2D)  (None, 4, 4, 256)         0         \n",
      "                                                                 \n",
      " block4_conv1 (Conv2D)       (None, 4, 4, 512)         1180160   \n",
      "                                                                 \n",
      " block4_conv2 (Conv2D)       (None, 4, 4, 512)         2359808   \n",
      "                                                                 \n",
      " block4_conv3 (Conv2D)       (None, 4, 4, 512)         2359808   \n",
      "                                                                 \n",
      " block4_pool (MaxPooling2D)  (None, 2, 2, 512)         0         \n",
      "                                                                 \n",
      " block5_conv1 (Conv2D)       (None, 2, 2, 512)         2359808   \n",
      "                                                                 \n",
      " block5_conv2 (Conv2D)       (None, 2, 2, 512)         2359808   \n",
      "                                                                 \n",
      " block5_conv3 (Conv2D)       (None, 2, 2, 512)         2359808   \n",
      "                                                                 \n",
      " block5_pool (MaxPooling2D)  (None, 1, 1, 512)         0         \n",
      "                                                                 \n",
      "=================================================================\n",
      "Total params: 14,714,688\n",
      "Trainable params: 0\n",
      "Non-trainable params: 14,714,688\n",
      "_________________________________________________________________\n"
     ]
    }
   ],
   "source": [
    "base_model.summary()\n"
   ]
  },
  {
   "cell_type": "code",
   "execution_count": 11,
   "id": "642e5a1b",
   "metadata": {},
   "outputs": [
    {
     "name": "stdout",
     "output_type": "stream",
     "text": [
      "Model: \"sequential\"\n",
      "_________________________________________________________________\n",
      " Layer (type)                Output Shape              Param #   \n",
      "=================================================================\n",
      " vgg16 (Functional)          (None, 1, 1, 512)         14714688  \n",
      "                                                                 \n",
      " flatten (Flatten)           (None, 512)               0         \n",
      "                                                                 \n",
      " dense (Dense)               (None, 128)               65664     \n",
      "                                                                 \n",
      " dense_1 (Dense)             (None, 64)                8256      \n",
      "                                                                 \n",
      " dense_2 (Dense)             (None, 36)                2340      \n",
      "                                                                 \n",
      "=================================================================\n",
      "Total params: 14,790,948\n",
      "Trainable params: 76,260\n",
      "Non-trainable params: 14,714,688\n",
      "_________________________________________________________________\n"
     ]
    }
   ],
   "source": [
    "from tensorflow.keras import layers ,models \n",
    "from keras.layers import Dense, Dropout, Flatten, Conv2D, MaxPool2D ,GlobalAveragePooling2D \n",
    "\n",
    "flatten_layer = layers.Flatten()\n",
    "dense_layer_1 = layers.Dense(128, activation='relu')\n",
    "dense_layer_2 = layers.Dense(64, activation='relu')\n",
    "prediction_layer = layers.Dense(36, activation='softmax')\n",
    "\n",
    "\n",
    "model = models.Sequential([\n",
    "    base_model,\n",
    "    flatten_layer,\n",
    "    dense_layer_1,\n",
    "    dense_layer_2,\n",
    "    prediction_layer\n",
    "])\n",
    "model.summary()"
   ]
  },
  {
   "cell_type": "code",
   "execution_count": 73,
   "id": "2ccc62eb",
   "metadata": {},
   "outputs": [
    {
     "name": "stdout",
     "output_type": "stream",
     "text": [
      "Epoch 1/20\n",
      "375/375 [==============================] - 88s 234ms/step - loss: 3.4256 - accuracy: 0.1061 - val_loss: 3.3408 - val_accuracy: 0.1138\n",
      "Epoch 2/20\n",
      "375/375 [==============================] - 93s 248ms/step - loss: 3.2593 - accuracy: 0.1398 - val_loss: 3.1885 - val_accuracy: 0.1615\n",
      "Epoch 3/20\n",
      "375/375 [==============================] - 84s 224ms/step - loss: 3.0998 - accuracy: 0.1737 - val_loss: 3.0622 - val_accuracy: 0.1806\n",
      "Epoch 4/20\n",
      "375/375 [==============================] - 87s 233ms/step - loss: 2.9528 - accuracy: 0.1994 - val_loss: 2.9140 - val_accuracy: 0.2043\n",
      "Epoch 5/20\n",
      "375/375 [==============================] - 87s 233ms/step - loss: 2.8315 - accuracy: 0.2212 - val_loss: 2.7978 - val_accuracy: 0.2233\n",
      "Epoch 6/20\n",
      "375/375 [==============================] - 82s 219ms/step - loss: 2.7360 - accuracy: 0.2442 - val_loss: 2.8152 - val_accuracy: 0.2190\n",
      "Epoch 7/20\n",
      "375/375 [==============================] - 92s 244ms/step - loss: 2.6662 - accuracy: 0.2621 - val_loss: 2.6872 - val_accuracy: 0.2430\n",
      "Epoch 8/20\n",
      "375/375 [==============================] - 94s 250ms/step - loss: 2.6031 - accuracy: 0.2811 - val_loss: 2.6155 - val_accuracy: 0.2810\n",
      "Epoch 9/20\n",
      "375/375 [==============================] - 103s 275ms/step - loss: 2.5565 - accuracy: 0.2901 - val_loss: 2.5668 - val_accuracy: 0.2817\n",
      "Epoch 10/20\n",
      "375/375 [==============================] - 92s 246ms/step - loss: 2.5077 - accuracy: 0.3022 - val_loss: 2.5412 - val_accuracy: 0.2967\n",
      "Epoch 11/20\n",
      "375/375 [==============================] - 97s 258ms/step - loss: 2.4701 - accuracy: 0.3134 - val_loss: 2.5261 - val_accuracy: 0.3017\n",
      "Epoch 12/20\n",
      "375/375 [==============================] - 97s 258ms/step - loss: 2.4275 - accuracy: 0.3261 - val_loss: 2.4694 - val_accuracy: 0.3174\n",
      "Epoch 13/20\n",
      "375/375 [==============================] - 91s 242ms/step - loss: 2.3990 - accuracy: 0.3326 - val_loss: 2.4455 - val_accuracy: 0.3158\n",
      "Epoch 14/20\n",
      "375/375 [==============================] - 96s 257ms/step - loss: 2.3651 - accuracy: 0.3466 - val_loss: 2.4031 - val_accuracy: 0.3291\n",
      "Epoch 15/20\n",
      "375/375 [==============================] - 99s 264ms/step - loss: 2.3398 - accuracy: 0.3503 - val_loss: 2.4095 - val_accuracy: 0.3431\n",
      "Epoch 16/20\n",
      "375/375 [==============================] - 97s 258ms/step - loss: 2.3117 - accuracy: 0.3598 - val_loss: 2.3430 - val_accuracy: 0.3538\n",
      "Epoch 17/20\n",
      "375/375 [==============================] - 91s 243ms/step - loss: 2.2852 - accuracy: 0.3694 - val_loss: 2.3447 - val_accuracy: 0.3578\n",
      "Epoch 18/20\n",
      "375/375 [==============================] - 95s 254ms/step - loss: 2.2592 - accuracy: 0.3765 - val_loss: 2.4502 - val_accuracy: 0.3214\n",
      "Epoch 19/20\n",
      "375/375 [==============================] - 96s 255ms/step - loss: 2.2370 - accuracy: 0.3790 - val_loss: 2.3005 - val_accuracy: 0.3732\n",
      "Epoch 20/20\n",
      "375/375 [==============================] - 94s 250ms/step - loss: 2.2193 - accuracy: 0.3860 - val_loss: 2.2878 - val_accuracy: 0.3708\n"
     ]
    }
   ],
   "source": [
    "es = EarlyStopping(monitor='val_accuracy', mode='max', patience=5,  restore_best_weights=True)\n",
    "\n",
    "model.compile(optimizer = 'sgd',loss='categorical_crossentropy', metrics=['accuracy'])\n",
    "    \n",
    "H = model.fit(x = trainX , y = trainy , epochs = 20  , batch_size = 32 , validation_data = (testX , testy),callbacks=[es])"
   ]
  },
  {
   "cell_type": "code",
   "execution_count": 74,
   "id": "89af7d64",
   "metadata": {},
   "outputs": [
    {
     "data": {
      "image/png": "[encoded data removed]",
      "text/plain": [
       "<Figure size 640x480 with 1 Axes>"
      ]
     },
     "metadata": {},
     "output_type": "display_data"
    }
   ],
   "source": [
    "plt.plot(H.history['accuracy'] , label = 'train accuracy')\n",
    "plt.plot(H.history['val_accuracy'] , label = 'test accuracy')\n",
    "\n",
    "plt.legend()\n",
    "plt.xlabel('epochs')\n",
    "plt.ylabel('accuracy')\n",
    "plt.title('solving captcha')\n",
    "plt.show()"
   ]
  },
  {
   "cell_type": "markdown",
   "id": "79829665",
   "metadata": {},
   "source": [
    "# ResNet50"
   ]
  },
  {
   "cell_type": "code",
   "execution_count": 75,
   "id": "a835a5d4",
   "metadata": {},
   "outputs": [
    {
     "name": "stdout",
     "output_type": "stream",
     "text": [
      "Downloading data from https://storage.googleapis.com/tensorflow/keras-applications/resnet/resnet50_weights_tf_dim_ordering_tf_kernels_notop.h5\n",
      "94765736/94765736 [==============================] - 14s 0us/step\n"
     ]
    }
   ],
   "source": [
    "from tensorflow import keras\n",
    "import tensorflow as tf\n",
    "\n",
    "resnet_model1 = keras.Sequential()\n",
    "\n",
    "pretrained_model1= tf.keras.applications.ResNet50(include_top=False,\n",
    "                   input_shape = (32,32,3),\n",
    "                   pooling='avg',classes=25,\n",
    "                   weights='imagenet')\n",
    "\n",
    "for layer in pretrained_model1.layers:\n",
    "        layer.trainable=False\n",
    "\n",
    "resnet_model1.add(pretrained_model1)"
   ]
  },
  {
   "cell_type": "code",
   "execution_count": 79,
   "id": "240fb5e1",
   "metadata": {},
   "outputs": [],
   "source": [
    "resnet_model1.add(tf.keras.layers.Flatten())\n",
    "resnet_model1.add(tf.keras.layers.Dense(512, activation='relu'))\n",
    "resnet_model1.add(tf.keras.layers.Dense(36, activation='softmax'))"
   ]
  },
  {
   "cell_type": "code",
   "execution_count": 80,
   "id": "d5433015",
   "metadata": {},
   "outputs": [
    {
     "name": "stdout",
     "output_type": "stream",
     "text": [
      "Model: \"sequential_5\"\n",
      "_________________________________________________________________\n",
      " Layer (type)                Output Shape              Param #   \n",
      "=================================================================\n",
      " resnet50 (Functional)       (None, 2048)              23587712  \n",
      "                                                                 \n",
      " flatten_5 (Flatten)         (None, 2048)              0         \n",
      "                                                                 \n",
      " dense_12 (Dense)            (None, 512)               1049088   \n",
      "                                                                 \n",
      " dense_13 (Dense)            (None, 25)                12825     \n",
      "                                                                 \n",
      " flatten_6 (Flatten)         (None, 25)                0         \n",
      "                                                                 \n",
      " dense_14 (Dense)            (None, 512)               13312     \n",
      "                                                                 \n",
      " dense_15 (Dense)            (None, 36)                18468     \n",
      "                                                                 \n",
      "=================================================================\n",
      "Total params: 24,681,405\n",
      "Trainable params: 1,093,693\n",
      "Non-trainable params: 23,587,712\n",
      "_________________________________________________________________\n"
     ]
    }
   ],
   "source": [
    "resnet_model1.summary()"
   ]
  },
  {
   "cell_type": "code",
   "execution_count": 81,
   "id": "a2bb7e3f",
   "metadata": {},
   "outputs": [
    {
     "name": "stdout",
     "output_type": "stream",
     "text": [
      "Epoch 1/20\n",
      "375/375 [==============================] - 72s 176ms/step - loss: 3.4828 - accuracy: 0.0974 - val_loss: 3.4750 - val_accuracy: 0.0995\n",
      "Epoch 2/20\n",
      "375/375 [==============================] - 67s 179ms/step - loss: 3.4765 - accuracy: 0.0975 - val_loss: 3.4727 - val_accuracy: 0.0995\n",
      "Epoch 3/20\n",
      "375/375 [==============================] - 65s 173ms/step - loss: 3.4746 - accuracy: 0.0975 - val_loss: 3.4730 - val_accuracy: 0.0995\n",
      "Epoch 4/20\n",
      "375/375 [==============================] - 65s 173ms/step - loss: 3.4754 - accuracy: 0.0975 - val_loss: 3.4722 - val_accuracy: 0.0995\n",
      "Epoch 5/20\n",
      "375/375 [==============================] - 68s 181ms/step - loss: 3.4746 - accuracy: 0.0975 - val_loss: 3.4735 - val_accuracy: 0.0995\n",
      "Epoch 6/20\n",
      "375/375 [==============================] - 70s 188ms/step - loss: 3.4744 - accuracy: 0.0975 - val_loss: 3.4724 - val_accuracy: 0.0995\n",
      "Epoch 7/20\n",
      "375/375 [==============================] - 67s 179ms/step - loss: 3.4741 - accuracy: 0.0975 - val_loss: 3.4719 - val_accuracy: 0.0995\n",
      "Epoch 8/20\n",
      "375/375 [==============================] - 69s 184ms/step - loss: 3.4741 - accuracy: 0.0975 - val_loss: 3.4726 - val_accuracy: 0.0995\n",
      "Epoch 9/20\n",
      "375/375 [==============================] - 74s 198ms/step - loss: 3.4746 - accuracy: 0.0975 - val_loss: 3.4712 - val_accuracy: 0.0995\n",
      "Epoch 10/20\n",
      "375/375 [==============================] - 72s 193ms/step - loss: 3.4746 - accuracy: 0.0975 - val_loss: 3.4707 - val_accuracy: 0.0995\n",
      "Epoch 11/20\n",
      "375/375 [==============================] - 72s 191ms/step - loss: 3.4735 - accuracy: 0.0975 - val_loss: 3.4707 - val_accuracy: 0.0995\n",
      "Epoch 12/20\n",
      "375/375 [==============================] - 69s 184ms/step - loss: 3.4740 - accuracy: 0.0975 - val_loss: 3.4702 - val_accuracy: 0.0995\n",
      "Epoch 13/20\n",
      "375/375 [==============================] - 66s 175ms/step - loss: 3.4731 - accuracy: 0.0975 - val_loss: 3.4718 - val_accuracy: 0.0995\n",
      "Epoch 14/20\n",
      "375/375 [==============================] - 69s 183ms/step - loss: 3.4738 - accuracy: 0.0975 - val_loss: 3.4705 - val_accuracy: 0.0995\n",
      "Epoch 15/20\n",
      "375/375 [==============================] - 67s 178ms/step - loss: 3.4737 - accuracy: 0.0975 - val_loss: 3.4723 - val_accuracy: 0.0995\n",
      "Epoch 16/20\n",
      "375/375 [==============================] - 68s 182ms/step - loss: 3.4735 - accuracy: 0.0975 - val_loss: 3.4710 - val_accuracy: 0.0995\n",
      "Epoch 17/20\n",
      "375/375 [==============================] - 67s 178ms/step - loss: 3.4734 - accuracy: 0.0975 - val_loss: 3.4702 - val_accuracy: 0.0995\n",
      "Epoch 18/20\n",
      "375/375 [==============================] - 68s 183ms/step - loss: 3.4735 - accuracy: 0.0975 - val_loss: 3.4712 - val_accuracy: 0.0995\n",
      "Epoch 19/20\n",
      "375/375 [==============================] - 68s 183ms/step - loss: 3.4734 - accuracy: 0.0975 - val_loss: 3.4712 - val_accuracy: 0.0995\n",
      "Epoch 20/20\n",
      "375/375 [==============================] - 71s 189ms/step - loss: 3.4729 - accuracy: 0.0975 - val_loss: 3.4710 - val_accuracy: 0.0995\n"
     ]
    }
   ],
   "source": [
    "resnet_model1.compile(optimizer='Adam',loss='categorical_crossentropy',metrics=['accuracy'])\n",
    "\n",
    "history = resnet_model1.fit(x = trainX , y = trainy , epochs = 20  , batch_size = 32 , validation_data = (testX , testy))"
   ]
  },
  {
   "cell_type": "code",
   "execution_count": 19,
   "id": "656f1d6e",
   "metadata": {},
   "outputs": [
    {
     "data": {
      "image/png": "[encoded data removed]",
      "text/plain": [
       "<Figure size 432x288 with 1 Axes>"
      ]
     },
     "metadata": {
      "needs_background": "light"
     },
     "output_type": "display_data"
    }
   ],
   "source": [
    "plt.plot(history.history['accuracy'] , label = 'train accuracy')\n",
    "plt.plot(history.history['val_accuracy'] , label = 'test accuracy')\n",
    "\n",
    "plt.legend()\n",
    "plt.xlabel('epochs')\n",
    "plt.ylabel('accuracy')\n",
    "plt.title('solving captcha')\n",
    "plt.show()"
   ]
  },
  {
   "cell_type": "markdown",
   "id": "70514d09",
   "metadata": {},
   "source": [
    "# Test by new images"
   ]
  },
  {
   "cell_type": "code",
   "execution_count": 11,
   "id": "583c2a2e",
   "metadata": {},
   "outputs": [
    {
     "name": "stderr",
     "output_type": "stream",
     "text": [
      "100%|██████████████████████████████████████████████████████████████████████████████████| 21/21 [00:01<00:00, 15.88it/s]\n"
     ]
    }
   ],
   "source": [
    "import os\n",
    "import cv2\n",
    "from tqdm import tqdm\n",
    "\n",
    "counter = 0\n",
    "\n",
    "directory_path = 'C:\\\\Users\\\\lenovo\\\\Desktop\\\\project\\\\8508\\\\project\\\\test\\\\'\n",
    "\n",
    "for file_name in tqdm(os.listdir(directory_path)):\n",
    "    if file_name.endswith('.jpg'):\n",
    "        image = cv2.imread(os.path.join(directory_path, file_name), 0)\n",
    "        for i in range(5):\n",
    "            counter += 1\n",
    "            sub_image = image[:, i * 28:i * 28 + 35]\n",
    "            output_directory = 'C:\\\\Users\\\\lenovo\\\\Desktop\\\\project\\\\8508\\\\project\\\\test\\\\sub_image\\\\'\n",
    "            cv2.imwrite(os.path.join(output_directory, f'{file_name[i]}_{counter}.jpg'), sub_image)\n"
   ]
  },
  {
   "cell_type": "code",
   "execution_count": 56,
   "id": "0c58e126",
   "metadata": {},
   "outputs": [],
   "source": [
    "import os\n",
    "import cv2\n",
    "import numpy as np\n",
    "directory_path = 'C:\\\\Users\\\\lenovo\\\\Desktop\\\\project\\\\8508\\\\project\\\\test\\\\sub_category\\\\'\n",
    "\n",
    "all_images_new = []\n",
    "all_labels_new = []\n",
    "\n",
    "for root, dirs, files in (os.walk(directory_path)):\n",
    "    for file_name in files:\n",
    "        if file_name.endswith('.jpg'):\n",
    "            file_path = os.path.join(root, file_name)\n",
    "            image = cv2.imread(file_path)\n",
    "            image = cv2.resize(image, (32, 32))\n",
    "            image = image.astype(np.float32) / 255.0\n",
    "\n",
    "            all_images_new.append(image)\n",
    "            label = os.path.basename(root)\n",
    "\n",
    "            all_labels_new.append(label)\n"
   ]
  },
  {
   "cell_type": "code",
   "execution_count": 57,
   "id": "5529fedf",
   "metadata": {},
   "outputs": [],
   "source": [
    "from sklearn.model_selection import train_test_split\n",
    "from sklearn.preprocessing import LabelBinarizer\n",
    "\n",
    "all_images_new = np.array(all_images_new)\n",
    "    \n",
    "lb = LabelBinarizer()\n",
    "all_labels_new = lb.fit_transform(all_labels_new)\n",
    "\n",
    "trainX_new , testX_new , trainy_new , testy_new = train_test_split(all_images_new , all_labels_new, test_size = 0.2)"
   ]
  },
  {
   "cell_type": "code",
   "execution_count": 61,
   "id": "59836916",
   "metadata": {},
   "outputs": [],
   "source": [
    "from tensorflow import keras\n",
    "net = keras.models.load_model('model_2023_04_09')\n",
    "for l in net.layers[:-1]:\n",
    "    l.trainable = False"
   ]
  },
  {
   "cell_type": "code",
   "execution_count": 62,
   "id": "be27b9e7",
   "metadata": {},
   "outputs": [],
   "source": [
    "net.compile(loss = 'categorical_crossentropy' , optimizer = 'adam' , metrics = ['accuracy'])"
   ]
  },
  {
   "cell_type": "code",
   "execution_count": 63,
   "id": "02b71464",
   "metadata": {
    "scrolled": false
   },
   "outputs": [
    {
     "name": "stdout",
     "output_type": "stream",
     "text": [
      "Model: \"sequential_4\"\n",
      "_________________________________________________________________\n",
      " Layer (type)                Output Shape              Param #   \n",
      "=================================================================\n",
      " conv2d_8 (Conv2D)           (None, 32, 32, 64)        1792      \n",
      "                                                                 \n",
      " max_pooling2d_8 (MaxPooling  (None, 16, 16, 64)       0         \n",
      " 2D)                                                             \n",
      "                                                                 \n",
      " dropout_4 (Dropout)         (None, 16, 16, 64)        0         \n",
      "                                                                 \n",
      " conv2d_9 (Conv2D)           (None, 16, 16, 128)       73856     \n",
      "                                                                 \n",
      " max_pooling2d_9 (MaxPooling  (None, 8, 8, 128)        0         \n",
      " 2D)                                                             \n",
      "                                                                 \n",
      " flatten_4 (Flatten)         (None, 8192)              0         \n",
      "                                                                 \n",
      " dense_8 (Dense)             (None, 64)                524352    \n",
      "                                                                 \n",
      " dense_9 (Dense)             (None, 36)                2340      \n",
      "                                                                 \n",
      "=================================================================\n",
      "Total params: 602,340\n",
      "Trainable params: 2,340\n",
      "Non-trainable params: 600,000\n",
      "_________________________________________________________________\n"
     ]
    }
   ],
   "source": [
    "net.summary()"
   ]
  },
  {
   "cell_type": "code",
   "execution_count": 74,
   "id": "f72f712f",
   "metadata": {},
   "outputs": [
    {
     "name": "stdout",
     "output_type": "stream",
     "text": [
      "Epoch 1/200\n",
      "3/3 [==============================] - 0s 20ms/step - loss: 0.0304 - accuracy: 1.0000\n",
      "Epoch 2/200\n",
      "3/3 [==============================] - 0s 17ms/step - loss: 0.0537 - accuracy: 0.9875\n",
      "Epoch 3/200\n",
      "3/3 [==============================] - 0s 20ms/step - loss: 0.0230 - accuracy: 1.0000\n",
      "Epoch 4/200\n",
      "3/3 [==============================] - 0s 17ms/step - loss: 0.0398 - accuracy: 1.0000\n",
      "Epoch 5/200\n",
      "3/3 [==============================] - 0s 21ms/step - loss: 0.0412 - accuracy: 1.0000\n",
      "Epoch 6/200\n",
      "3/3 [==============================] - 0s 17ms/step - loss: 0.0441 - accuracy: 1.0000\n",
      "Epoch 7/200\n",
      "3/3 [==============================] - 0s 17ms/step - loss: 0.0372 - accuracy: 1.0000\n",
      "Epoch 8/200\n",
      "3/3 [==============================] - 0s 19ms/step - loss: 0.0307 - accuracy: 1.0000\n",
      "Epoch 9/200\n",
      "3/3 [==============================] - 0s 14ms/step - loss: 0.0399 - accuracy: 1.0000\n",
      "Epoch 10/200\n",
      "3/3 [==============================] - 0s 17ms/step - loss: 0.0394 - accuracy: 0.9875\n",
      "Epoch 11/200\n",
      "3/3 [==============================] - 0s 20ms/step - loss: 0.0671 - accuracy: 0.9750\n",
      "Epoch 12/200\n",
      "3/3 [==============================] - 0s 18ms/step - loss: 0.0649 - accuracy: 0.9875\n",
      "Epoch 13/200\n",
      "3/3 [==============================] - 0s 17ms/step - loss: 0.0441 - accuracy: 1.0000\n",
      "Epoch 14/200\n",
      "3/3 [==============================] - 0s 17ms/step - loss: 0.0569 - accuracy: 0.9875\n",
      "Epoch 15/200\n",
      "3/3 [==============================] - 0s 17ms/step - loss: 0.0399 - accuracy: 1.0000\n",
      "Epoch 16/200\n",
      "3/3 [==============================] - 0s 16ms/step - loss: 0.0551 - accuracy: 0.9875\n",
      "Epoch 17/200\n",
      "3/3 [==============================] - 0s 16ms/step - loss: 0.0605 - accuracy: 0.9875\n",
      "Epoch 18/200\n",
      "3/3 [==============================] - 0s 16ms/step - loss: 0.0374 - accuracy: 1.0000\n",
      "Epoch 19/200\n",
      "3/3 [==============================] - 0s 15ms/step - loss: 0.0477 - accuracy: 0.9875\n",
      "Epoch 20/200\n",
      "3/3 [==============================] - 0s 19ms/step - loss: 0.0392 - accuracy: 1.0000\n",
      "Epoch 21/200\n",
      "3/3 [==============================] - 0s 16ms/step - loss: 0.0467 - accuracy: 0.9875\n",
      "Epoch 22/200\n",
      "3/3 [==============================] - 0s 16ms/step - loss: 0.0511 - accuracy: 1.0000\n",
      "Epoch 23/200\n",
      "3/3 [==============================] - 0s 16ms/step - loss: 0.0356 - accuracy: 1.0000\n",
      "Epoch 24/200\n",
      "3/3 [==============================] - 0s 16ms/step - loss: 0.0392 - accuracy: 1.0000\n",
      "Epoch 25/200\n",
      "3/3 [==============================] - 0s 18ms/step - loss: 0.0468 - accuracy: 1.0000\n",
      "Epoch 26/200\n",
      "3/3 [==============================] - 0s 16ms/step - loss: 0.0803 - accuracy: 0.9750\n",
      "Epoch 27/200\n",
      "3/3 [==============================] - 0s 16ms/step - loss: 0.0669 - accuracy: 0.9875\n",
      "Epoch 28/200\n",
      "3/3 [==============================] - 0s 18ms/step - loss: 0.0288 - accuracy: 1.0000\n",
      "Epoch 29/200\n",
      "3/3 [==============================] - 0s 17ms/step - loss: 0.0352 - accuracy: 1.0000\n",
      "Epoch 30/200\n",
      "3/3 [==============================] - 0s 17ms/step - loss: 0.0371 - accuracy: 1.0000\n",
      "Epoch 31/200\n",
      "3/3 [==============================] - 0s 17ms/step - loss: 0.0380 - accuracy: 1.0000\n",
      "Epoch 32/200\n",
      "3/3 [==============================] - 0s 16ms/step - loss: 0.0416 - accuracy: 1.0000\n",
      "Epoch 33/200\n",
      "3/3 [==============================] - 0s 16ms/step - loss: 0.0513 - accuracy: 1.0000\n",
      "Epoch 34/200\n",
      "3/3 [==============================] - 0s 18ms/step - loss: 0.0520 - accuracy: 0.9875\n",
      "Epoch 35/200\n",
      "3/3 [==============================] - 0s 16ms/step - loss: 0.0425 - accuracy: 1.0000\n",
      "Epoch 36/200\n",
      "3/3 [==============================] - 0s 17ms/step - loss: 0.0761 - accuracy: 0.9625\n",
      "Epoch 37/200\n",
      "3/3 [==============================] - 0s 16ms/step - loss: 0.0562 - accuracy: 1.0000\n",
      "Epoch 38/200\n",
      "3/3 [==============================] - 0s 16ms/step - loss: 0.0561 - accuracy: 0.9875\n",
      "Epoch 39/200\n",
      "3/3 [==============================] - 0s 17ms/step - loss: 0.0442 - accuracy: 0.9875\n",
      "Epoch 40/200\n",
      "3/3 [==============================] - 0s 18ms/step - loss: 0.0516 - accuracy: 0.9875\n",
      "Epoch 41/200\n",
      "3/3 [==============================] - 0s 20ms/step - loss: 0.0286 - accuracy: 1.0000\n",
      "Epoch 42/200\n",
      "3/3 [==============================] - 0s 19ms/step - loss: 0.0384 - accuracy: 1.0000\n",
      "Epoch 43/200\n",
      "3/3 [==============================] - 0s 17ms/step - loss: 0.0357 - accuracy: 1.0000\n",
      "Epoch 44/200\n",
      "3/3 [==============================] - 0s 19ms/step - loss: 0.0518 - accuracy: 1.0000\n",
      "Epoch 45/200\n",
      "3/3 [==============================] - 0s 19ms/step - loss: 0.0391 - accuracy: 1.0000\n",
      "Epoch 46/200\n",
      "3/3 [==============================] - 0s 17ms/step - loss: 0.0436 - accuracy: 1.0000\n",
      "Epoch 47/200\n",
      "3/3 [==============================] - 0s 17ms/step - loss: 0.0380 - accuracy: 1.0000\n",
      "Epoch 48/200\n",
      "3/3 [==============================] - 0s 21ms/step - loss: 0.0405 - accuracy: 1.0000\n",
      "Epoch 49/200\n",
      "3/3 [==============================] - 0s 22ms/step - loss: 0.0293 - accuracy: 1.0000\n",
      "Epoch 50/200\n",
      "3/3 [==============================] - 0s 21ms/step - loss: 0.0354 - accuracy: 1.0000\n",
      "Epoch 51/200\n",
      "3/3 [==============================] - 0s 18ms/step - loss: 0.0520 - accuracy: 1.0000\n",
      "Epoch 52/200\n",
      "3/3 [==============================] - 0s 19ms/step - loss: 0.0473 - accuracy: 1.0000\n",
      "Epoch 53/200\n",
      "3/3 [==============================] - 0s 19ms/step - loss: 0.0356 - accuracy: 1.0000\n",
      "Epoch 54/200\n",
      "3/3 [==============================] - 0s 17ms/step - loss: 0.0432 - accuracy: 0.9875\n",
      "Epoch 55/200\n",
      "3/3 [==============================] - 0s 29ms/step - loss: 0.0474 - accuracy: 0.9875\n",
      "Epoch 56/200\n",
      "3/3 [==============================] - 0s 27ms/step - loss: 0.0332 - accuracy: 1.0000\n",
      "Epoch 57/200\n",
      "3/3 [==============================] - 0s 28ms/step - loss: 0.0487 - accuracy: 1.0000\n",
      "Epoch 58/200\n",
      "3/3 [==============================] - 0s 25ms/step - loss: 0.0420 - accuracy: 1.0000\n",
      "Epoch 59/200\n",
      "3/3 [==============================] - 0s 25ms/step - loss: 0.0535 - accuracy: 0.9750\n",
      "Epoch 60/200\n",
      "3/3 [==============================] - 0s 25ms/step - loss: 0.0539 - accuracy: 0.9875\n",
      "Epoch 61/200\n",
      "3/3 [==============================] - 0s 24ms/step - loss: 0.0407 - accuracy: 1.0000\n",
      "Epoch 62/200\n",
      "3/3 [==============================] - 0s 29ms/step - loss: 0.0430 - accuracy: 0.9875\n",
      "Epoch 63/200\n",
      "3/3 [==============================] - 0s 29ms/step - loss: 0.0368 - accuracy: 0.9875\n",
      "Epoch 64/200\n",
      "3/3 [==============================] - 0s 29ms/step - loss: 0.0420 - accuracy: 0.9875\n",
      "Epoch 65/200\n",
      "3/3 [==============================] - 0s 29ms/step - loss: 0.0551 - accuracy: 0.9875\n",
      "Epoch 66/200\n",
      "3/3 [==============================] - 0s 35ms/step - loss: 0.0288 - accuracy: 1.0000\n",
      "Epoch 67/200\n",
      "3/3 [==============================] - 0s 31ms/step - loss: 0.0342 - accuracy: 1.0000\n",
      "Epoch 68/200\n",
      "3/3 [==============================] - 0s 29ms/step - loss: 0.0249 - accuracy: 1.0000\n",
      "Epoch 69/200\n",
      "3/3 [==============================] - 0s 25ms/step - loss: 0.0352 - accuracy: 1.0000\n",
      "Epoch 70/200\n",
      "3/3 [==============================] - 0s 30ms/step - loss: 0.0240 - accuracy: 1.0000\n",
      "Epoch 71/200\n",
      "3/3 [==============================] - 0s 28ms/step - loss: 0.0331 - accuracy: 1.0000\n",
      "Epoch 72/200\n",
      "3/3 [==============================] - 0s 31ms/step - loss: 0.0301 - accuracy: 1.0000\n",
      "Epoch 73/200\n",
      "3/3 [==============================] - 0s 29ms/step - loss: 0.0480 - accuracy: 1.0000\n",
      "Epoch 74/200\n",
      "3/3 [==============================] - 0s 27ms/step - loss: 0.0339 - accuracy: 1.0000\n",
      "Epoch 75/200\n",
      "3/3 [==============================] - 0s 25ms/step - loss: 0.0396 - accuracy: 1.0000\n",
      "Epoch 76/200\n",
      "3/3 [==============================] - 0s 29ms/step - loss: 0.0459 - accuracy: 1.0000\n",
      "Epoch 77/200\n",
      "3/3 [==============================] - 0s 28ms/step - loss: 0.0332 - accuracy: 1.0000\n",
      "Epoch 78/200\n",
      "3/3 [==============================] - 0s 27ms/step - loss: 0.0512 - accuracy: 1.0000\n",
      "Epoch 79/200\n",
      "3/3 [==============================] - 0s 17ms/step - loss: 0.0583 - accuracy: 0.9875\n",
      "Epoch 80/200\n",
      "3/3 [==============================] - 0s 19ms/step - loss: 0.0383 - accuracy: 0.9875\n",
      "Epoch 81/200\n",
      "3/3 [==============================] - 0s 16ms/step - loss: 0.0385 - accuracy: 0.9875\n",
      "Epoch 82/200\n",
      "3/3 [==============================] - 0s 15ms/step - loss: 0.0307 - accuracy: 1.0000\n",
      "Epoch 83/200\n"
     ]
    },
    {
     "name": "stdout",
     "output_type": "stream",
     "text": [
      "3/3 [==============================] - 0s 18ms/step - loss: 0.0350 - accuracy: 1.0000\n",
      "Epoch 84/200\n",
      "3/3 [==============================] - 0s 16ms/step - loss: 0.0231 - accuracy: 1.0000\n",
      "Epoch 85/200\n",
      "3/3 [==============================] - 0s 14ms/step - loss: 0.0330 - accuracy: 1.0000\n",
      "Epoch 86/200\n",
      "3/3 [==============================] - 0s 14ms/step - loss: 0.0386 - accuracy: 1.0000\n",
      "Epoch 87/200\n",
      "3/3 [==============================] - 0s 14ms/step - loss: 0.0552 - accuracy: 0.9875\n",
      "Epoch 88/200\n",
      "3/3 [==============================] - 0s 14ms/step - loss: 0.0513 - accuracy: 0.9875\n",
      "Epoch 89/200\n",
      "3/3 [==============================] - 0s 16ms/step - loss: 0.0214 - accuracy: 1.0000\n",
      "Epoch 90/200\n",
      "3/3 [==============================] - 0s 17ms/step - loss: 0.0343 - accuracy: 1.0000\n",
      "Epoch 91/200\n",
      "3/3 [==============================] - 0s 15ms/step - loss: 0.0487 - accuracy: 1.0000\n",
      "Epoch 92/200\n",
      "3/3 [==============================] - 0s 16ms/step - loss: 0.0462 - accuracy: 0.9875\n",
      "Epoch 93/200\n",
      "3/3 [==============================] - 0s 18ms/step - loss: 0.0353 - accuracy: 1.0000\n",
      "Epoch 94/200\n",
      "3/3 [==============================] - 0s 16ms/step - loss: 0.0284 - accuracy: 1.0000\n",
      "Epoch 95/200\n",
      "3/3 [==============================] - 0s 16ms/step - loss: 0.0326 - accuracy: 1.0000\n",
      "Epoch 96/200\n",
      "3/3 [==============================] - 0s 15ms/step - loss: 0.0299 - accuracy: 1.0000\n",
      "Epoch 97/200\n",
      "3/3 [==============================] - 0s 16ms/step - loss: 0.0386 - accuracy: 1.0000\n",
      "Epoch 98/200\n",
      "3/3 [==============================] - 0s 16ms/step - loss: 0.0671 - accuracy: 0.9875\n",
      "Epoch 99/200\n",
      "3/3 [==============================] - 0s 16ms/step - loss: 0.0377 - accuracy: 1.0000\n",
      "Epoch 100/200\n",
      "3/3 [==============================] - 0s 16ms/step - loss: 0.0448 - accuracy: 1.0000\n",
      "Epoch 101/200\n",
      "3/3 [==============================] - 0s 17ms/step - loss: 0.0474 - accuracy: 1.0000\n",
      "Epoch 102/200\n",
      "3/3 [==============================] - 0s 16ms/step - loss: 0.0291 - accuracy: 1.0000\n",
      "Epoch 103/200\n",
      "3/3 [==============================] - 0s 17ms/step - loss: 0.0540 - accuracy: 1.0000\n",
      "Epoch 104/200\n",
      "3/3 [==============================] - 0s 16ms/step - loss: 0.0510 - accuracy: 0.9875\n",
      "Epoch 105/200\n",
      "3/3 [==============================] - 0s 15ms/step - loss: 0.0328 - accuracy: 1.0000\n",
      "Epoch 106/200\n",
      "3/3 [==============================] - 0s 16ms/step - loss: 0.0288 - accuracy: 1.0000\n",
      "Epoch 107/200\n",
      "3/3 [==============================] - 0s 15ms/step - loss: 0.0332 - accuracy: 1.0000\n",
      "Epoch 108/200\n",
      "3/3 [==============================] - 0s 16ms/step - loss: 0.0417 - accuracy: 1.0000\n",
      "Epoch 109/200\n",
      "3/3 [==============================] - 0s 15ms/step - loss: 0.0333 - accuracy: 0.9875\n",
      "Epoch 110/200\n",
      "3/3 [==============================] - 0s 15ms/step - loss: 0.0339 - accuracy: 1.0000\n",
      "Epoch 111/200\n",
      "3/3 [==============================] - 0s 15ms/step - loss: 0.0388 - accuracy: 1.0000\n",
      "Epoch 112/200\n",
      "3/3 [==============================] - 0s 15ms/step - loss: 0.0339 - accuracy: 1.0000\n",
      "Epoch 113/200\n",
      "3/3 [==============================] - 0s 17ms/step - loss: 0.0207 - accuracy: 1.0000\n",
      "Epoch 114/200\n",
      "3/3 [==============================] - 0s 14ms/step - loss: 0.0531 - accuracy: 1.0000\n",
      "Epoch 115/200\n",
      "3/3 [==============================] - 0s 14ms/step - loss: 0.0408 - accuracy: 1.0000\n",
      "Epoch 116/200\n",
      "3/3 [==============================] - 0s 15ms/step - loss: 0.0281 - accuracy: 1.0000\n",
      "Epoch 117/200\n",
      "3/3 [==============================] - 0s 15ms/step - loss: 0.0453 - accuracy: 1.0000\n",
      "Epoch 118/200\n",
      "3/3 [==============================] - 0s 17ms/step - loss: 0.0216 - accuracy: 1.0000\n",
      "Epoch 119/200\n",
      "3/3 [==============================] - 0s 17ms/step - loss: 0.0438 - accuracy: 1.0000\n",
      "Epoch 120/200\n",
      "3/3 [==============================] - 0s 26ms/step - loss: 0.0442 - accuracy: 0.9875\n",
      "Epoch 121/200\n",
      "3/3 [==============================] - 0s 25ms/step - loss: 0.0355 - accuracy: 1.0000\n",
      "Epoch 122/200\n",
      "3/3 [==============================] - 0s 25ms/step - loss: 0.0417 - accuracy: 1.0000\n",
      "Epoch 123/200\n",
      "3/3 [==============================] - 0s 24ms/step - loss: 0.0305 - accuracy: 0.9875\n",
      "Epoch 124/200\n",
      "3/3 [==============================] - 0s 24ms/step - loss: 0.0297 - accuracy: 1.0000\n",
      "Epoch 125/200\n",
      "3/3 [==============================] - 0s 28ms/step - loss: 0.0399 - accuracy: 1.0000\n",
      "Epoch 126/200\n",
      "3/3 [==============================] - 0s 24ms/step - loss: 0.0509 - accuracy: 1.0000\n",
      "Epoch 127/200\n",
      "3/3 [==============================] - 0s 24ms/step - loss: 0.0483 - accuracy: 1.0000\n",
      "Epoch 128/200\n",
      "3/3 [==============================] - 0s 28ms/step - loss: 0.0500 - accuracy: 1.0000\n",
      "Epoch 129/200\n",
      "3/3 [==============================] - 0s 26ms/step - loss: 0.0406 - accuracy: 1.0000\n",
      "Epoch 130/200\n",
      "3/3 [==============================] - 0s 24ms/step - loss: 0.0266 - accuracy: 1.0000\n",
      "Epoch 131/200\n",
      "3/3 [==============================] - 0s 25ms/step - loss: 0.0413 - accuracy: 0.9875\n",
      "Epoch 132/200\n",
      "3/3 [==============================] - 0s 25ms/step - loss: 0.0313 - accuracy: 1.0000\n",
      "Epoch 133/200\n",
      "3/3 [==============================] - 0s 25ms/step - loss: 0.0644 - accuracy: 0.9875\n",
      "Epoch 134/200\n",
      "3/3 [==============================] - 0s 24ms/step - loss: 0.0274 - accuracy: 1.0000\n",
      "Epoch 135/200\n",
      "3/3 [==============================] - 0s 25ms/step - loss: 0.0304 - accuracy: 1.0000\n",
      "Epoch 136/200\n",
      "3/3 [==============================] - 0s 25ms/step - loss: 0.0649 - accuracy: 0.9875\n",
      "Epoch 137/200\n",
      "3/3 [==============================] - 0s 24ms/step - loss: 0.0375 - accuracy: 1.0000\n",
      "Epoch 138/200\n",
      "3/3 [==============================] - 0s 24ms/step - loss: 0.0416 - accuracy: 1.0000\n",
      "Epoch 139/200\n",
      "3/3 [==============================] - 0s 24ms/step - loss: 0.0308 - accuracy: 1.0000\n",
      "Epoch 140/200\n",
      "3/3 [==============================] - 0s 26ms/step - loss: 0.0598 - accuracy: 0.9875\n",
      "Epoch 141/200\n",
      "3/3 [==============================] - 0s 23ms/step - loss: 0.0384 - accuracy: 1.0000\n",
      "Epoch 142/200\n",
      "3/3 [==============================] - 0s 24ms/step - loss: 0.0624 - accuracy: 0.9750\n",
      "Epoch 143/200\n",
      "3/3 [==============================] - 0s 24ms/step - loss: 0.0234 - accuracy: 1.0000\n",
      "Epoch 144/200\n",
      "3/3 [==============================] - 0s 25ms/step - loss: 0.0252 - accuracy: 1.0000\n",
      "Epoch 145/200\n",
      "3/3 [==============================] - 0s 24ms/step - loss: 0.0313 - accuracy: 1.0000\n",
      "Epoch 146/200\n",
      "3/3 [==============================] - 0s 23ms/step - loss: 0.0480 - accuracy: 0.9875\n",
      "Epoch 147/200\n",
      "3/3 [==============================] - 0s 14ms/step - loss: 0.0384 - accuracy: 1.0000\n",
      "Epoch 148/200\n",
      "3/3 [==============================] - 0s 15ms/step - loss: 0.0299 - accuracy: 1.0000\n",
      "Epoch 149/200\n",
      "3/3 [==============================] - 0s 15ms/step - loss: 0.0319 - accuracy: 1.0000\n",
      "Epoch 150/200\n",
      "3/3 [==============================] - 0s 14ms/step - loss: 0.0331 - accuracy: 1.0000\n",
      "Epoch 151/200\n",
      "3/3 [==============================] - 0s 15ms/step - loss: 0.0414 - accuracy: 0.9875\n",
      "Epoch 152/200\n",
      "3/3 [==============================] - 0s 14ms/step - loss: 0.0484 - accuracy: 0.9875\n",
      "Epoch 153/200\n",
      "3/3 [==============================] - 0s 15ms/step - loss: 0.0452 - accuracy: 1.0000\n",
      "Epoch 154/200\n",
      "3/3 [==============================] - 0s 16ms/step - loss: 0.0405 - accuracy: 1.0000\n",
      "Epoch 155/200\n",
      "3/3 [==============================] - 0s 15ms/step - loss: 0.0438 - accuracy: 1.0000\n",
      "Epoch 156/200\n",
      "3/3 [==============================] - 0s 15ms/step - loss: 0.0345 - accuracy: 1.0000\n",
      "Epoch 157/200\n",
      "3/3 [==============================] - 0s 15ms/step - loss: 0.0288 - accuracy: 1.0000\n",
      "Epoch 158/200\n",
      "3/3 [==============================] - 0s 14ms/step - loss: 0.0397 - accuracy: 0.9875\n",
      "Epoch 159/200\n",
      "3/3 [==============================] - 0s 16ms/step - loss: 0.0215 - accuracy: 1.0000\n",
      "Epoch 160/200\n",
      "3/3 [==============================] - 0s 16ms/step - loss: 0.0382 - accuracy: 0.9875\n",
      "Epoch 161/200\n",
      "3/3 [==============================] - 0s 15ms/step - loss: 0.0443 - accuracy: 0.9875\n",
      "Epoch 162/200\n",
      "3/3 [==============================] - 0s 14ms/step - loss: 0.0313 - accuracy: 1.0000\n",
      "Epoch 163/200\n",
      "3/3 [==============================] - 0s 16ms/step - loss: 0.0278 - accuracy: 1.0000\n",
      "Epoch 164/200\n",
      "3/3 [==============================] - 0s 15ms/step - loss: 0.0245 - accuracy: 1.0000\n",
      "Epoch 165/200\n"
     ]
    },
    {
     "name": "stdout",
     "output_type": "stream",
     "text": [
      "3/3 [==============================] - 0s 15ms/step - loss: 0.0482 - accuracy: 0.9875\n",
      "Epoch 166/200\n",
      "3/3 [==============================] - 0s 16ms/step - loss: 0.0282 - accuracy: 1.0000\n",
      "Epoch 167/200\n",
      "3/3 [==============================] - 0s 14ms/step - loss: 0.0260 - accuracy: 1.0000\n",
      "Epoch 168/200\n",
      "3/3 [==============================] - 0s 15ms/step - loss: 0.0487 - accuracy: 0.9750\n",
      "Epoch 169/200\n",
      "3/3 [==============================] - 0s 15ms/step - loss: 0.0337 - accuracy: 1.0000\n",
      "Epoch 170/200\n",
      "3/3 [==============================] - 0s 15ms/step - loss: 0.0265 - accuracy: 1.0000\n",
      "Epoch 171/200\n",
      "3/3 [==============================] - 0s 15ms/step - loss: 0.0539 - accuracy: 0.9875\n",
      "Epoch 172/200\n",
      "3/3 [==============================] - 0s 14ms/step - loss: 0.0262 - accuracy: 1.0000\n",
      "Epoch 173/200\n",
      "3/3 [==============================] - 0s 14ms/step - loss: 0.0396 - accuracy: 0.9875\n",
      "Epoch 174/200\n",
      "3/3 [==============================] - 0s 14ms/step - loss: 0.0222 - accuracy: 1.0000\n",
      "Epoch 175/200\n",
      "3/3 [==============================] - 0s 16ms/step - loss: 0.0315 - accuracy: 1.0000\n",
      "Epoch 176/200\n",
      "3/3 [==============================] - 0s 14ms/step - loss: 0.0364 - accuracy: 1.0000\n",
      "Epoch 177/200\n",
      "3/3 [==============================] - 0s 14ms/step - loss: 0.0518 - accuracy: 0.9750\n",
      "Epoch 178/200\n",
      "3/3 [==============================] - 0s 14ms/step - loss: 0.0291 - accuracy: 1.0000\n",
      "Epoch 179/200\n",
      "3/3 [==============================] - 0s 14ms/step - loss: 0.0407 - accuracy: 0.9875\n",
      "Epoch 180/200\n",
      "3/3 [==============================] - 0s 14ms/step - loss: 0.0376 - accuracy: 1.0000\n",
      "Epoch 181/200\n",
      "3/3 [==============================] - 0s 14ms/step - loss: 0.0349 - accuracy: 1.0000\n",
      "Epoch 182/200\n",
      "3/3 [==============================] - 0s 15ms/step - loss: 0.0251 - accuracy: 1.0000\n",
      "Epoch 183/200\n",
      "3/3 [==============================] - 0s 14ms/step - loss: 0.0256 - accuracy: 1.0000\n",
      "Epoch 184/200\n",
      "3/3 [==============================] - 0s 15ms/step - loss: 0.0174 - accuracy: 1.0000\n",
      "Epoch 185/200\n",
      "3/3 [==============================] - 0s 14ms/step - loss: 0.0250 - accuracy: 1.0000\n",
      "Epoch 186/200\n",
      "3/3 [==============================] - 0s 15ms/step - loss: 0.0395 - accuracy: 1.0000\n",
      "Epoch 187/200\n",
      "3/3 [==============================] - 0s 15ms/step - loss: 0.0351 - accuracy: 0.9875\n",
      "Epoch 188/200\n",
      "3/3 [==============================] - 0s 15ms/step - loss: 0.0360 - accuracy: 1.0000\n",
      "Epoch 189/200\n",
      "3/3 [==============================] - 0s 15ms/step - loss: 0.0261 - accuracy: 1.0000\n",
      "Epoch 190/200\n",
      "3/3 [==============================] - 0s 14ms/step - loss: 0.0469 - accuracy: 0.9875\n",
      "Epoch 191/200\n",
      "3/3 [==============================] - 0s 24ms/step - loss: 0.0507 - accuracy: 0.9875\n",
      "Epoch 192/200\n",
      "3/3 [==============================] - 0s 24ms/step - loss: 0.0302 - accuracy: 1.0000\n",
      "Epoch 193/200\n",
      "3/3 [==============================] - 0s 28ms/step - loss: 0.0253 - accuracy: 1.0000\n",
      "Epoch 194/200\n",
      "3/3 [==============================] - 0s 24ms/step - loss: 0.0424 - accuracy: 1.0000\n",
      "Epoch 195/200\n",
      "3/3 [==============================] - 0s 23ms/step - loss: 0.0214 - accuracy: 1.0000\n",
      "Epoch 196/200\n",
      "3/3 [==============================] - 0s 24ms/step - loss: 0.0342 - accuracy: 0.9875\n",
      "Epoch 197/200\n",
      "3/3 [==============================] - 0s 25ms/step - loss: 0.0419 - accuracy: 1.0000\n",
      "Epoch 198/200\n",
      "3/3 [==============================] - 0s 23ms/step - loss: 0.0247 - accuracy: 1.0000\n",
      "Epoch 199/200\n",
      "3/3 [==============================] - 0s 24ms/step - loss: 0.0236 - accuracy: 1.0000\n",
      "Epoch 200/200\n",
      "3/3 [==============================] - 0s 25ms/step - loss: 0.0294 - accuracy: 1.0000\n"
     ]
    }
   ],
   "source": [
    "from tensorflow.keras.callbacks import EarlyStopping\n",
    "\n",
    "es = EarlyStopping(mode='max', patience=5,  restore_best_weights=True)\n",
    "\n",
    "H = net.fit(x = trainX_new , y = trainy_new , epochs = 200  , batch_size = 32)"
   ]
  },
  {
   "cell_type": "code",
   "execution_count": 76,
   "id": "cf23e4c0",
   "metadata": {},
   "outputs": [
    {
     "data": {
      "image/png": "[encoded data removed]",
      "text/plain": [
       "<Figure size 640x480 with 1 Axes>"
      ]
     },
     "metadata": {},
     "output_type": "display_data"
    }
   ],
   "source": [
    "plt.plot(H.history['accuracy'] , label = 'accuracy')\n",
    "\n",
    "plt.legend()\n",
    "plt.xlabel('epochs')\n",
    "plt.ylabel('accuracy')\n",
    "plt.title('Test')\n",
    "plt.show()"
   ]
  },
  {
   "cell_type": "code",
   "execution_count": null,
   "id": "f6583d15",
   "metadata": {},
   "outputs": [],
   "source": []
  }
 ],
 "metadata": {
  "kernelspec": {
   "display_name": "Python 3 (ipykernel)",
   "language": "python",
   "name": "python3"
  },
  "language_info": {
   "codemirror_mode": {
    "name": "ipython",
    "version": 3
   },
   "file_extension": ".py",
   "mimetype": "text/x-python",
   "name": "python",
   "nbconvert_exporter": "python",
   "pygments_lexer": "ipython3",
   "version": "3.10.9"
  }
 },
 "nbformat": 4,
 "nbformat_minor": 5
}
